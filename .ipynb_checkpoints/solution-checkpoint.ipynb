{
 "cells": [
  {
   "cell_type": "code",
   "execution_count": 1,
   "id": "9b943a6a",
   "metadata": {},
   "outputs": [],
   "source": [
    "%matplotlib inline\n",
    "import pandas as pd\n",
    "import numpy as np\n",
    "import matplotlib.pyplot as plt"
   ]
  },
  {
   "cell_type": "markdown",
   "id": "854b59ff",
   "metadata": {},
   "source": [
    "### Task 1.1: 5 unique features\n",
    "- Ankomst_Forsinkelse\n",
    "- Avgang_Forsinkelse\n",
    "- Travelt_Nivå\n",
    "- Ledige_Plasser\n",
    "- er_forsinket_ankomst"
   ]
  },
  {
   "cell_type": "markdown",
   "id": "a574dac0",
   "metadata": {},
   "source": [
    "#### Leser inn datasetet:"
   ]
  },
  {
   "cell_type": "code",
   "execution_count": 2,
   "id": "88ee8b1b",
   "metadata": {},
   "outputs": [],
   "source": [
    "url = \"https://raw.githubusercontent.com/umaimehm/Intro_to_AI_2021/main/assignment1/Ruter_data.csv\"\n",
    "df = pd.read_csv(url, sep=\";\")"
   ]
  },
  {
   "cell_type": "markdown",
   "id": "3de58e5f",
   "metadata": {},
   "source": [
    "### Task 1.2\n",
    "\n",
    "#### Data Preprocessing:\n",
    "\n",
    "##### Fjerner ugyldig tid og konverterer tid:"
   ]
  },
  {
   "cell_type": "code",
   "execution_count": 3,
   "id": "e0205ea5",
   "metadata": {},
   "outputs": [],
   "source": [
    "df = df[df['Tidspunkt_Faktisk_Ankomst_Holdeplass_Fra'] < '24:00:00']\n",
    "df = df[df['Tidspunkt_Faktisk_Avgang_Holdeplass_Fra'] < '24:00:00']\n",
    "df = df[df['Tidspunkt_Planlagt_Ankomst_Holdeplass_Fra'] < '24:00:00']\n",
    "df = df[df['Tidspunkt_Planlagt_Avgang_Holdeplass_Fra'] < '24:00:00']\n",
    "\n",
    "# Konverter tid\n",
    "df['Tidspunkt_Faktisk_Ankomst_Holdeplass_Fra'] = pd.to_timedelta(df['Tidspunkt_Faktisk_Ankomst_Holdeplass_Fra'])\n",
    "df['Tidspunkt_Faktisk_Avgang_Holdeplass_Fra'] = pd.to_timedelta(df['Tidspunkt_Faktisk_Avgang_Holdeplass_Fra'])\n",
    "df['Tidspunkt_Planlagt_Ankomst_Holdeplass_Fra'] = pd.to_timedelta(df['Tidspunkt_Planlagt_Ankomst_Holdeplass_Fra'])\n",
    "df['Tidspunkt_Planlagt_Avgang_Holdeplass_Fra'] = pd.to_timedelta(df['Tidspunkt_Planlagt_Avgang_Holdeplass_Fra'])\n",
    "\n",
    "# konverterer dato\n",
    "df['Dato'] = pd.to_datetime(df['Dato'], infer_datetime_format=True)"
   ]
  },
  {
   "cell_type": "markdown",
   "id": "9e19881e",
   "metadata": {},
   "source": [
    "##### Sjekker for outliers av Passasjerer_Ombord"
   ]
  },
  {
   "cell_type": "code",
   "execution_count": 4,
   "id": "cc405cb9",
   "metadata": {},
   "outputs": [
    {
     "data": {
      "image/png": "[encoded data removed]",
      "text/plain": [
       "<Figure size 432x288 with 1 Axes>"
      ]
     },
     "metadata": {
      "needs_background": "light"
     },
     "output_type": "display_data"
    }
   ],
   "source": [
    "#Looking for outlaiers: (using a box plot)\n",
    "df['Passasjerer_Ombord'].plot.box()\n",
    "\n",
    "#The Negative values are outliers,\n",
    "#and we need to replace them with resonable values (median). \n",
    "#Changing negativ values:\n",
    "median_passasjerer_ombord = df['Passasjerer_Ombord'].median()\n",
    "for index, row in df.iterrows():\n",
    "    if row['Passasjerer_Ombord'] < 0:\n",
    "        df.loc[index,'Passasjerer_Ombord'] =  median_passasjerer_ombord"
   ]
  },
  {
   "cell_type": "code",
   "execution_count": 5,
   "id": "23978a96",
   "metadata": {},
   "outputs": [
    {
     "name": "stdout",
     "output_type": "stream",
     "text": [
      "mest passasjerer_ombord 64\n",
      "størst kjøretøy 151\n",
      "minst kjøretøy 33\n"
     ]
    },
    {
     "data": {
      "image/png": "[encoded data removed]",
      "text/plain": [
       "<Figure size 432x288 with 1 Axes>"
      ]
     },
     "metadata": {
      "needs_background": "light"
     },
     "output_type": "display_data"
    }
   ],
   "source": [
    "df['Passasjerer_Ombord'].plot.box()\n",
    "#checking if the max_value in this column is bigger than the biggest capacity: \n",
    "print(\"mest passasjerer_ombord\", df['Passasjerer_Ombord'].max()) #no\n",
    "print(\"størst kjøretøy\",df['Kjøretøy_Kapasitet'].max())\n",
    "print(\"minst kjøretøy\",df['Kjøretøy_Kapasitet'].min())"
   ]
  },
  {
   "cell_type": "markdown",
   "id": "6e317dca",
   "metadata": {},
   "source": [
    "#### Feature 1: Beregne ankomst tidsforsinkelser"
   ]
  },
  {
   "cell_type": "code",
   "execution_count": 6,
   "id": "098bffdc",
   "metadata": {},
   "outputs": [
    {
     "data": {
      "text/html": [
       "<div>\n",
       "<style scoped>\n",
       "    .dataframe tbody tr th:only-of-type {\n",
       "        vertical-align: middle;\n",
       "    }\n",
       "\n",
       "    .dataframe tbody tr th {\n",
       "        vertical-align: top;\n",
       "    }\n",
       "\n",
       "    .dataframe thead th {\n",
       "        text-align: right;\n",
       "    }\n",
       "</style>\n",
       "<table border=\"1\" class=\"dataframe\">\n",
       "  <thead>\n",
       "    <tr style=\"text-align: right;\">\n",
       "      <th></th>\n",
       "      <th>TurId</th>\n",
       "      <th>Dato</th>\n",
       "      <th>Fylke</th>\n",
       "      <th>Område</th>\n",
       "      <th>Kommune</th>\n",
       "      <th>Holdeplass_Fra</th>\n",
       "      <th>Holdeplass_Til</th>\n",
       "      <th>Linjetype</th>\n",
       "      <th>Linjefylke</th>\n",
       "      <th>Linjenavn</th>\n",
       "      <th>Linjeretning</th>\n",
       "      <th>Tidspunkt_Faktisk_Ankomst_Holdeplass_Fra</th>\n",
       "      <th>Tidspunkt_Faktisk_Avgang_Holdeplass_Fra</th>\n",
       "      <th>Tidspunkt_Planlagt_Ankomst_Holdeplass_Fra</th>\n",
       "      <th>Tidspunkt_Planlagt_Avgang_Holdeplass_Fra</th>\n",
       "      <th>Kjøretøy_Kapasitet</th>\n",
       "      <th>Passasjerer_Ombord</th>\n",
       "      <th>Ankomst_tidsforsinkelse</th>\n",
       "    </tr>\n",
       "  </thead>\n",
       "  <tbody>\n",
       "    <tr>\n",
       "      <th>0</th>\n",
       "      <td>15006-2020-08-10T10:24:00+02:00</td>\n",
       "      <td>2020-10-08</td>\n",
       "      <td>Viken</td>\n",
       "      <td>Vest</td>\n",
       "      <td>Bærum</td>\n",
       "      <td>Nordliveien</td>\n",
       "      <td>Tjernsmyr</td>\n",
       "      <td>Lokal</td>\n",
       "      <td>Viken</td>\n",
       "      <td>150</td>\n",
       "      <td>0</td>\n",
       "      <td>0 days 10:53:53</td>\n",
       "      <td>0 days 10:53:59</td>\n",
       "      <td>0 days 10:53:00</td>\n",
       "      <td>0 days 10:53:00</td>\n",
       "      <td>112</td>\n",
       "      <td>5</td>\n",
       "      <td>0 days 00:00:53</td>\n",
       "    </tr>\n",
       "    <tr>\n",
       "      <th>1</th>\n",
       "      <td>15002-2020-08-15T12:54:00+02:00</td>\n",
       "      <td>2020-08-15</td>\n",
       "      <td>Viken</td>\n",
       "      <td>Vest</td>\n",
       "      <td>Bærum</td>\n",
       "      <td>Nadderud stadion</td>\n",
       "      <td>Bekkestua bussterminal (Plattform C)</td>\n",
       "      <td>Lokal</td>\n",
       "      <td>Viken</td>\n",
       "      <td>150</td>\n",
       "      <td>0</td>\n",
       "      <td>0 days 13:12:20</td>\n",
       "      <td>0 days 13:12:26</td>\n",
       "      <td>0 days 13:12:00</td>\n",
       "      <td>0 days 13:12:00</td>\n",
       "      <td>112</td>\n",
       "      <td>5</td>\n",
       "      <td>0 days 00:00:20</td>\n",
       "    </tr>\n",
       "  </tbody>\n",
       "</table>\n",
       "</div>"
      ],
      "text/plain": [
       "                             TurId       Dato  Fylke Område Kommune  \\\n",
       "0  15006-2020-08-10T10:24:00+02:00 2020-10-08  Viken   Vest   Bærum   \n",
       "1  15002-2020-08-15T12:54:00+02:00 2020-08-15  Viken   Vest   Bærum   \n",
       "\n",
       "     Holdeplass_Fra                        Holdeplass_Til Linjetype  \\\n",
       "0       Nordliveien                             Tjernsmyr     Lokal   \n",
       "1  Nadderud stadion  Bekkestua bussterminal (Plattform C)     Lokal   \n",
       "\n",
       "  Linjefylke Linjenavn  Linjeretning Tidspunkt_Faktisk_Ankomst_Holdeplass_Fra  \\\n",
       "0      Viken       150             0                          0 days 10:53:53   \n",
       "1      Viken       150             0                          0 days 13:12:20   \n",
       "\n",
       "  Tidspunkt_Faktisk_Avgang_Holdeplass_Fra  \\\n",
       "0                         0 days 10:53:59   \n",
       "1                         0 days 13:12:26   \n",
       "\n",
       "  Tidspunkt_Planlagt_Ankomst_Holdeplass_Fra  \\\n",
       "0                           0 days 10:53:00   \n",
       "1                           0 days 13:12:00   \n",
       "\n",
       "  Tidspunkt_Planlagt_Avgang_Holdeplass_Fra  Kjøretøy_Kapasitet  \\\n",
       "0                          0 days 10:53:00                 112   \n",
       "1                          0 days 13:12:00                 112   \n",
       "\n",
       "   Passasjerer_Ombord Ankomst_tidsforsinkelse  \n",
       "0                   5         0 days 00:00:53  \n",
       "1                   5         0 days 00:00:20  "
      ]
     },
     "execution_count": 6,
     "metadata": {},
     "output_type": "execute_result"
    }
   ],
   "source": [
    "df['Ankomst_tidsforsinkelse'] = df['Tidspunkt_Faktisk_Ankomst_Holdeplass_Fra'] - df['Tidspunkt_Planlagt_Ankomst_Holdeplass_Fra']\n",
    "\n",
    "# Checks if there is no delay\n",
    "for index, row in df.iterrows():\n",
    "    if(row['Tidspunkt_Faktisk_Ankomst_Holdeplass_Fra'] < row['Tidspunkt_Planlagt_Ankomst_Holdeplass_Fra']):\n",
    "        df.loc[index, 'Ankomst_tidsforsinkelse'] = 0\n",
    "\n",
    "# Convert to time\n",
    "df['Ankomst_tidsforsinkelse'] = pd.to_timedelta(df['Ankomst_tidsforsinkelse'])\n",
    "df.head(2)"
   ]
  },
  {
   "cell_type": "markdown",
   "id": "c4deb63c",
   "metadata": {},
   "source": [
    "#### Feature 2: Beregne avgang tidsforsinkelser"
   ]
  },
  {
   "cell_type": "code",
   "execution_count": 7,
   "id": "6968e3b1",
   "metadata": {},
   "outputs": [
    {
     "data": {
      "text/html": [
       "<div>\n",
       "<style scoped>\n",
       "    .dataframe tbody tr th:only-of-type {\n",
       "        vertical-align: middle;\n",
       "    }\n",
       "\n",
       "    .dataframe tbody tr th {\n",
       "        vertical-align: top;\n",
       "    }\n",
       "\n",
       "    .dataframe thead th {\n",
       "        text-align: right;\n",
       "    }\n",
       "</style>\n",
       "<table border=\"1\" class=\"dataframe\">\n",
       "  <thead>\n",
       "    <tr style=\"text-align: right;\">\n",
       "      <th></th>\n",
       "      <th>TurId</th>\n",
       "      <th>Dato</th>\n",
       "      <th>Fylke</th>\n",
       "      <th>Område</th>\n",
       "      <th>Kommune</th>\n",
       "      <th>Holdeplass_Fra</th>\n",
       "      <th>Holdeplass_Til</th>\n",
       "      <th>Linjetype</th>\n",
       "      <th>Linjefylke</th>\n",
       "      <th>Linjenavn</th>\n",
       "      <th>Linjeretning</th>\n",
       "      <th>Tidspunkt_Faktisk_Ankomst_Holdeplass_Fra</th>\n",
       "      <th>Tidspunkt_Faktisk_Avgang_Holdeplass_Fra</th>\n",
       "      <th>Tidspunkt_Planlagt_Ankomst_Holdeplass_Fra</th>\n",
       "      <th>Tidspunkt_Planlagt_Avgang_Holdeplass_Fra</th>\n",
       "      <th>Kjøretøy_Kapasitet</th>\n",
       "      <th>Passasjerer_Ombord</th>\n",
       "      <th>Ankomst_tidsforsinkelse</th>\n",
       "      <th>Avgang_tidsforsinkelse</th>\n",
       "    </tr>\n",
       "  </thead>\n",
       "  <tbody>\n",
       "    <tr>\n",
       "      <th>0</th>\n",
       "      <td>15006-2020-08-10T10:24:00+02:00</td>\n",
       "      <td>2020-10-08</td>\n",
       "      <td>Viken</td>\n",
       "      <td>Vest</td>\n",
       "      <td>Bærum</td>\n",
       "      <td>Nordliveien</td>\n",
       "      <td>Tjernsmyr</td>\n",
       "      <td>Lokal</td>\n",
       "      <td>Viken</td>\n",
       "      <td>150</td>\n",
       "      <td>0</td>\n",
       "      <td>0 days 10:53:53</td>\n",
       "      <td>0 days 10:53:59</td>\n",
       "      <td>0 days 10:53:00</td>\n",
       "      <td>0 days 10:53:00</td>\n",
       "      <td>112</td>\n",
       "      <td>5</td>\n",
       "      <td>0 days 00:00:53</td>\n",
       "      <td>0 days 00:00:59</td>\n",
       "    </tr>\n",
       "    <tr>\n",
       "      <th>1</th>\n",
       "      <td>15002-2020-08-15T12:54:00+02:00</td>\n",
       "      <td>2020-08-15</td>\n",
       "      <td>Viken</td>\n",
       "      <td>Vest</td>\n",
       "      <td>Bærum</td>\n",
       "      <td>Nadderud stadion</td>\n",
       "      <td>Bekkestua bussterminal (Plattform C)</td>\n",
       "      <td>Lokal</td>\n",
       "      <td>Viken</td>\n",
       "      <td>150</td>\n",
       "      <td>0</td>\n",
       "      <td>0 days 13:12:20</td>\n",
       "      <td>0 days 13:12:26</td>\n",
       "      <td>0 days 13:12:00</td>\n",
       "      <td>0 days 13:12:00</td>\n",
       "      <td>112</td>\n",
       "      <td>5</td>\n",
       "      <td>0 days 00:00:20</td>\n",
       "      <td>0 days 00:00:26</td>\n",
       "    </tr>\n",
       "  </tbody>\n",
       "</table>\n",
       "</div>"
      ],
      "text/plain": [
       "                             TurId       Dato  Fylke Område Kommune  \\\n",
       "0  15006-2020-08-10T10:24:00+02:00 2020-10-08  Viken   Vest   Bærum   \n",
       "1  15002-2020-08-15T12:54:00+02:00 2020-08-15  Viken   Vest   Bærum   \n",
       "\n",
       "     Holdeplass_Fra                        Holdeplass_Til Linjetype  \\\n",
       "0       Nordliveien                             Tjernsmyr     Lokal   \n",
       "1  Nadderud stadion  Bekkestua bussterminal (Plattform C)     Lokal   \n",
       "\n",
       "  Linjefylke Linjenavn  Linjeretning Tidspunkt_Faktisk_Ankomst_Holdeplass_Fra  \\\n",
       "0      Viken       150             0                          0 days 10:53:53   \n",
       "1      Viken       150             0                          0 days 13:12:20   \n",
       "\n",
       "  Tidspunkt_Faktisk_Avgang_Holdeplass_Fra  \\\n",
       "0                         0 days 10:53:59   \n",
       "1                         0 days 13:12:26   \n",
       "\n",
       "  Tidspunkt_Planlagt_Ankomst_Holdeplass_Fra  \\\n",
       "0                           0 days 10:53:00   \n",
       "1                           0 days 13:12:00   \n",
       "\n",
       "  Tidspunkt_Planlagt_Avgang_Holdeplass_Fra  Kjøretøy_Kapasitet  \\\n",
       "0                          0 days 10:53:00                 112   \n",
       "1                          0 days 13:12:00                 112   \n",
       "\n",
       "   Passasjerer_Ombord Ankomst_tidsforsinkelse Avgang_tidsforsinkelse  \n",
       "0                   5         0 days 00:00:53        0 days 00:00:59  \n",
       "1                   5         0 days 00:00:20        0 days 00:00:26  "
      ]
     },
     "execution_count": 7,
     "metadata": {},
     "output_type": "execute_result"
    }
   ],
   "source": [
    "df['Avgang_tidsforsinkelse'] = df['Tidspunkt_Faktisk_Avgang_Holdeplass_Fra'] - df['Tidspunkt_Planlagt_Avgang_Holdeplass_Fra']\n",
    "\n",
    "# Checks if there is no delay\n",
    "for index, row in df.iterrows():\n",
    "    if(row['Tidspunkt_Faktisk_Avgang_Holdeplass_Fra'] < row['Tidspunkt_Planlagt_Avgang_Holdeplass_Fra']):\n",
    "        df.loc[index, 'Avgang_tidsforsinkelse'] = 0\n",
    "\n",
    "# Convert to time\n",
    "df['Avgang_tidsforsinkelse'] = pd.to_timedelta(df['Avgang_tidsforsinkelse'])\n",
    "df.head(2)"
   ]
  },
  {
   "cell_type": "markdown",
   "id": "65b92f4f",
   "metadata": {},
   "source": [
    "#### Feature 3: Bool er forsinket"
   ]
  },
  {
   "cell_type": "code",
   "execution_count": 8,
   "id": "1dbd29e9",
   "metadata": {},
   "outputs": [
    {
     "data": {
      "text/html": [
       "<div>\n",
       "<style scoped>\n",
       "    .dataframe tbody tr th:only-of-type {\n",
       "        vertical-align: middle;\n",
       "    }\n",
       "\n",
       "    .dataframe tbody tr th {\n",
       "        vertical-align: top;\n",
       "    }\n",
       "\n",
       "    .dataframe thead th {\n",
       "        text-align: right;\n",
       "    }\n",
       "</style>\n",
       "<table border=\"1\" class=\"dataframe\">\n",
       "  <thead>\n",
       "    <tr style=\"text-align: right;\">\n",
       "      <th></th>\n",
       "      <th>TurId</th>\n",
       "      <th>Dato</th>\n",
       "      <th>Fylke</th>\n",
       "      <th>Område</th>\n",
       "      <th>Kommune</th>\n",
       "      <th>Holdeplass_Fra</th>\n",
       "      <th>Holdeplass_Til</th>\n",
       "      <th>Linjetype</th>\n",
       "      <th>Linjefylke</th>\n",
       "      <th>Linjenavn</th>\n",
       "      <th>Linjeretning</th>\n",
       "      <th>Tidspunkt_Faktisk_Ankomst_Holdeplass_Fra</th>\n",
       "      <th>Tidspunkt_Faktisk_Avgang_Holdeplass_Fra</th>\n",
       "      <th>Tidspunkt_Planlagt_Ankomst_Holdeplass_Fra</th>\n",
       "      <th>Tidspunkt_Planlagt_Avgang_Holdeplass_Fra</th>\n",
       "      <th>Kjøretøy_Kapasitet</th>\n",
       "      <th>Passasjerer_Ombord</th>\n",
       "      <th>Ankomst_tidsforsinkelse</th>\n",
       "      <th>Avgang_tidsforsinkelse</th>\n",
       "      <th>er_forsinket_ankomst</th>\n",
       "    </tr>\n",
       "  </thead>\n",
       "  <tbody>\n",
       "    <tr>\n",
       "      <th>0</th>\n",
       "      <td>15006-2020-08-10T10:24:00+02:00</td>\n",
       "      <td>2020-10-08</td>\n",
       "      <td>Viken</td>\n",
       "      <td>Vest</td>\n",
       "      <td>Bærum</td>\n",
       "      <td>Nordliveien</td>\n",
       "      <td>Tjernsmyr</td>\n",
       "      <td>Lokal</td>\n",
       "      <td>Viken</td>\n",
       "      <td>150</td>\n",
       "      <td>0</td>\n",
       "      <td>0 days 10:53:53</td>\n",
       "      <td>0 days 10:53:59</td>\n",
       "      <td>0 days 10:53:00</td>\n",
       "      <td>0 days 10:53:00</td>\n",
       "      <td>112</td>\n",
       "      <td>5</td>\n",
       "      <td>0 days 00:00:53</td>\n",
       "      <td>0 days 00:00:59</td>\n",
       "      <td>True</td>\n",
       "    </tr>\n",
       "    <tr>\n",
       "      <th>1</th>\n",
       "      <td>15002-2020-08-15T12:54:00+02:00</td>\n",
       "      <td>2020-08-15</td>\n",
       "      <td>Viken</td>\n",
       "      <td>Vest</td>\n",
       "      <td>Bærum</td>\n",
       "      <td>Nadderud stadion</td>\n",
       "      <td>Bekkestua bussterminal (Plattform C)</td>\n",
       "      <td>Lokal</td>\n",
       "      <td>Viken</td>\n",
       "      <td>150</td>\n",
       "      <td>0</td>\n",
       "      <td>0 days 13:12:20</td>\n",
       "      <td>0 days 13:12:26</td>\n",
       "      <td>0 days 13:12:00</td>\n",
       "      <td>0 days 13:12:00</td>\n",
       "      <td>112</td>\n",
       "      <td>5</td>\n",
       "      <td>0 days 00:00:20</td>\n",
       "      <td>0 days 00:00:26</td>\n",
       "      <td>True</td>\n",
       "    </tr>\n",
       "  </tbody>\n",
       "</table>\n",
       "</div>"
      ],
      "text/plain": [
       "                             TurId       Dato  Fylke Område Kommune  \\\n",
       "0  15006-2020-08-10T10:24:00+02:00 2020-10-08  Viken   Vest   Bærum   \n",
       "1  15002-2020-08-15T12:54:00+02:00 2020-08-15  Viken   Vest   Bærum   \n",
       "\n",
       "     Holdeplass_Fra                        Holdeplass_Til Linjetype  \\\n",
       "0       Nordliveien                             Tjernsmyr     Lokal   \n",
       "1  Nadderud stadion  Bekkestua bussterminal (Plattform C)     Lokal   \n",
       "\n",
       "  Linjefylke Linjenavn  Linjeretning Tidspunkt_Faktisk_Ankomst_Holdeplass_Fra  \\\n",
       "0      Viken       150             0                          0 days 10:53:53   \n",
       "1      Viken       150             0                          0 days 13:12:20   \n",
       "\n",
       "  Tidspunkt_Faktisk_Avgang_Holdeplass_Fra  \\\n",
       "0                         0 days 10:53:59   \n",
       "1                         0 days 13:12:26   \n",
       "\n",
       "  Tidspunkt_Planlagt_Ankomst_Holdeplass_Fra  \\\n",
       "0                           0 days 10:53:00   \n",
       "1                           0 days 13:12:00   \n",
       "\n",
       "  Tidspunkt_Planlagt_Avgang_Holdeplass_Fra  Kjøretøy_Kapasitet  \\\n",
       "0                          0 days 10:53:00                 112   \n",
       "1                          0 days 13:12:00                 112   \n",
       "\n",
       "   Passasjerer_Ombord Ankomst_tidsforsinkelse Avgang_tidsforsinkelse  \\\n",
       "0                   5         0 days 00:00:53        0 days 00:00:59   \n",
       "1                   5         0 days 00:00:20        0 days 00:00:26   \n",
       "\n",
       "  er_forsinket_ankomst  \n",
       "0                 True  \n",
       "1                 True  "
      ]
     },
     "execution_count": 8,
     "metadata": {},
     "output_type": "execute_result"
    }
   ],
   "source": [
    "for index, row in df.iterrows():\n",
    "    if(row['Tidspunkt_Faktisk_Ankomst_Holdeplass_Fra'] < row['Tidspunkt_Planlagt_Ankomst_Holdeplass_Fra']):\n",
    "        df.loc[index, 'er_forsinket_ankomst'] = False\n",
    "    else:\n",
    "        df.loc[index, 'er_forsinket_ankomst'] = True\n",
    "df.head(2)"
   ]
  },
  {
   "cell_type": "markdown",
   "id": "b538a55b",
   "metadata": {},
   "source": [
    "#### Feature 4: Ledige plasser"
   ]
  },
  {
   "cell_type": "code",
   "execution_count": 9,
   "id": "084d950b",
   "metadata": {},
   "outputs": [
    {
     "data": {
      "text/html": [
       "<div>\n",
       "<style scoped>\n",
       "    .dataframe tbody tr th:only-of-type {\n",
       "        vertical-align: middle;\n",
       "    }\n",
       "\n",
       "    .dataframe tbody tr th {\n",
       "        vertical-align: top;\n",
       "    }\n",
       "\n",
       "    .dataframe thead th {\n",
       "        text-align: right;\n",
       "    }\n",
       "</style>\n",
       "<table border=\"1\" class=\"dataframe\">\n",
       "  <thead>\n",
       "    <tr style=\"text-align: right;\">\n",
       "      <th></th>\n",
       "      <th>TurId</th>\n",
       "      <th>Dato</th>\n",
       "      <th>Fylke</th>\n",
       "      <th>Område</th>\n",
       "      <th>Kommune</th>\n",
       "      <th>Holdeplass_Fra</th>\n",
       "      <th>Holdeplass_Til</th>\n",
       "      <th>Linjetype</th>\n",
       "      <th>Linjefylke</th>\n",
       "      <th>Linjenavn</th>\n",
       "      <th>...</th>\n",
       "      <th>Tidspunkt_Faktisk_Ankomst_Holdeplass_Fra</th>\n",
       "      <th>Tidspunkt_Faktisk_Avgang_Holdeplass_Fra</th>\n",
       "      <th>Tidspunkt_Planlagt_Ankomst_Holdeplass_Fra</th>\n",
       "      <th>Tidspunkt_Planlagt_Avgang_Holdeplass_Fra</th>\n",
       "      <th>Kjøretøy_Kapasitet</th>\n",
       "      <th>Passasjerer_Ombord</th>\n",
       "      <th>Ankomst_tidsforsinkelse</th>\n",
       "      <th>Avgang_tidsforsinkelse</th>\n",
       "      <th>er_forsinket_ankomst</th>\n",
       "      <th>Ledige_Plasser</th>\n",
       "    </tr>\n",
       "  </thead>\n",
       "  <tbody>\n",
       "    <tr>\n",
       "      <th>0</th>\n",
       "      <td>15006-2020-08-10T10:24:00+02:00</td>\n",
       "      <td>2020-10-08</td>\n",
       "      <td>Viken</td>\n",
       "      <td>Vest</td>\n",
       "      <td>Bærum</td>\n",
       "      <td>Nordliveien</td>\n",
       "      <td>Tjernsmyr</td>\n",
       "      <td>Lokal</td>\n",
       "      <td>Viken</td>\n",
       "      <td>150</td>\n",
       "      <td>...</td>\n",
       "      <td>0 days 10:53:53</td>\n",
       "      <td>0 days 10:53:59</td>\n",
       "      <td>0 days 10:53:00</td>\n",
       "      <td>0 days 10:53:00</td>\n",
       "      <td>112</td>\n",
       "      <td>5</td>\n",
       "      <td>0 days 00:00:53</td>\n",
       "      <td>0 days 00:00:59</td>\n",
       "      <td>True</td>\n",
       "      <td>107</td>\n",
       "    </tr>\n",
       "    <tr>\n",
       "      <th>1</th>\n",
       "      <td>15002-2020-08-15T12:54:00+02:00</td>\n",
       "      <td>2020-08-15</td>\n",
       "      <td>Viken</td>\n",
       "      <td>Vest</td>\n",
       "      <td>Bærum</td>\n",
       "      <td>Nadderud stadion</td>\n",
       "      <td>Bekkestua bussterminal (Plattform C)</td>\n",
       "      <td>Lokal</td>\n",
       "      <td>Viken</td>\n",
       "      <td>150</td>\n",
       "      <td>...</td>\n",
       "      <td>0 days 13:12:20</td>\n",
       "      <td>0 days 13:12:26</td>\n",
       "      <td>0 days 13:12:00</td>\n",
       "      <td>0 days 13:12:00</td>\n",
       "      <td>112</td>\n",
       "      <td>5</td>\n",
       "      <td>0 days 00:00:20</td>\n",
       "      <td>0 days 00:00:26</td>\n",
       "      <td>True</td>\n",
       "      <td>107</td>\n",
       "    </tr>\n",
       "  </tbody>\n",
       "</table>\n",
       "<p>2 rows × 21 columns</p>\n",
       "</div>"
      ],
      "text/plain": [
       "                             TurId       Dato  Fylke Område Kommune  \\\n",
       "0  15006-2020-08-10T10:24:00+02:00 2020-10-08  Viken   Vest   Bærum   \n",
       "1  15002-2020-08-15T12:54:00+02:00 2020-08-15  Viken   Vest   Bærum   \n",
       "\n",
       "     Holdeplass_Fra                        Holdeplass_Til Linjetype  \\\n",
       "0       Nordliveien                             Tjernsmyr     Lokal   \n",
       "1  Nadderud stadion  Bekkestua bussterminal (Plattform C)     Lokal   \n",
       "\n",
       "  Linjefylke Linjenavn  ...  Tidspunkt_Faktisk_Ankomst_Holdeplass_Fra  \\\n",
       "0      Viken       150  ...                           0 days 10:53:53   \n",
       "1      Viken       150  ...                           0 days 13:12:20   \n",
       "\n",
       "  Tidspunkt_Faktisk_Avgang_Holdeplass_Fra  \\\n",
       "0                         0 days 10:53:59   \n",
       "1                         0 days 13:12:26   \n",
       "\n",
       "  Tidspunkt_Planlagt_Ankomst_Holdeplass_Fra  \\\n",
       "0                           0 days 10:53:00   \n",
       "1                           0 days 13:12:00   \n",
       "\n",
       "  Tidspunkt_Planlagt_Avgang_Holdeplass_Fra Kjøretøy_Kapasitet  \\\n",
       "0                          0 days 10:53:00                112   \n",
       "1                          0 days 13:12:00                112   \n",
       "\n",
       "   Passasjerer_Ombord  Ankomst_tidsforsinkelse Avgang_tidsforsinkelse  \\\n",
       "0                   5          0 days 00:00:53        0 days 00:00:59   \n",
       "1                   5          0 days 00:00:20        0 days 00:00:26   \n",
       "\n",
       "  er_forsinket_ankomst Ledige_Plasser  \n",
       "0                 True            107  \n",
       "1                 True            107  \n",
       "\n",
       "[2 rows x 21 columns]"
      ]
     },
     "execution_count": 9,
     "metadata": {},
     "output_type": "execute_result"
    }
   ],
   "source": [
    "df['Ledige_Plasser'] = df['Kjøretøy_Kapasitet'] - df['Passasjerer_Ombord']\n",
    "df.head(2)"
   ]
  },
  {
   "cell_type": "markdown",
   "id": "2accfb51",
   "metadata": {},
   "source": [
    "#### Feature 5: Travelt Nivå"
   ]
  },
  {
   "cell_type": "code",
   "execution_count": 10,
   "id": "a1eecf8c",
   "metadata": {},
   "outputs": [
    {
     "data": {
      "text/html": [
       "<div>\n",
       "<style scoped>\n",
       "    .dataframe tbody tr th:only-of-type {\n",
       "        vertical-align: middle;\n",
       "    }\n",
       "\n",
       "    .dataframe tbody tr th {\n",
       "        vertical-align: top;\n",
       "    }\n",
       "\n",
       "    .dataframe thead th {\n",
       "        text-align: right;\n",
       "    }\n",
       "</style>\n",
       "<table border=\"1\" class=\"dataframe\">\n",
       "  <thead>\n",
       "    <tr style=\"text-align: right;\">\n",
       "      <th></th>\n",
       "      <th>TurId</th>\n",
       "      <th>Dato</th>\n",
       "      <th>Fylke</th>\n",
       "      <th>Område</th>\n",
       "      <th>Kommune</th>\n",
       "      <th>Holdeplass_Fra</th>\n",
       "      <th>Holdeplass_Til</th>\n",
       "      <th>Linjetype</th>\n",
       "      <th>Linjefylke</th>\n",
       "      <th>Linjenavn</th>\n",
       "      <th>...</th>\n",
       "      <th>Tidspunkt_Faktisk_Avgang_Holdeplass_Fra</th>\n",
       "      <th>Tidspunkt_Planlagt_Ankomst_Holdeplass_Fra</th>\n",
       "      <th>Tidspunkt_Planlagt_Avgang_Holdeplass_Fra</th>\n",
       "      <th>Kjøretøy_Kapasitet</th>\n",
       "      <th>Passasjerer_Ombord</th>\n",
       "      <th>Ankomst_tidsforsinkelse</th>\n",
       "      <th>Avgang_tidsforsinkelse</th>\n",
       "      <th>er_forsinket_ankomst</th>\n",
       "      <th>Ledige_Plasser</th>\n",
       "      <th>Travelt_Nivå</th>\n",
       "    </tr>\n",
       "  </thead>\n",
       "  <tbody>\n",
       "    <tr>\n",
       "      <th>0</th>\n",
       "      <td>15006-2020-08-10T10:24:00+02:00</td>\n",
       "      <td>2020-10-08</td>\n",
       "      <td>Viken</td>\n",
       "      <td>Vest</td>\n",
       "      <td>Bærum</td>\n",
       "      <td>Nordliveien</td>\n",
       "      <td>Tjernsmyr</td>\n",
       "      <td>Lokal</td>\n",
       "      <td>Viken</td>\n",
       "      <td>150</td>\n",
       "      <td>...</td>\n",
       "      <td>0 days 10:53:59</td>\n",
       "      <td>0 days 10:53:00</td>\n",
       "      <td>0 days 10:53:00</td>\n",
       "      <td>112</td>\n",
       "      <td>5</td>\n",
       "      <td>0 days 00:00:53</td>\n",
       "      <td>0 days 00:00:59</td>\n",
       "      <td>True</td>\n",
       "      <td>107</td>\n",
       "      <td>God plass</td>\n",
       "    </tr>\n",
       "    <tr>\n",
       "      <th>1</th>\n",
       "      <td>15002-2020-08-15T12:54:00+02:00</td>\n",
       "      <td>2020-08-15</td>\n",
       "      <td>Viken</td>\n",
       "      <td>Vest</td>\n",
       "      <td>Bærum</td>\n",
       "      <td>Nadderud stadion</td>\n",
       "      <td>Bekkestua bussterminal (Plattform C)</td>\n",
       "      <td>Lokal</td>\n",
       "      <td>Viken</td>\n",
       "      <td>150</td>\n",
       "      <td>...</td>\n",
       "      <td>0 days 13:12:26</td>\n",
       "      <td>0 days 13:12:00</td>\n",
       "      <td>0 days 13:12:00</td>\n",
       "      <td>112</td>\n",
       "      <td>5</td>\n",
       "      <td>0 days 00:00:20</td>\n",
       "      <td>0 days 00:00:26</td>\n",
       "      <td>True</td>\n",
       "      <td>107</td>\n",
       "      <td>God plass</td>\n",
       "    </tr>\n",
       "  </tbody>\n",
       "</table>\n",
       "<p>2 rows × 22 columns</p>\n",
       "</div>"
      ],
      "text/plain": [
       "                             TurId       Dato  Fylke Område Kommune  \\\n",
       "0  15006-2020-08-10T10:24:00+02:00 2020-10-08  Viken   Vest   Bærum   \n",
       "1  15002-2020-08-15T12:54:00+02:00 2020-08-15  Viken   Vest   Bærum   \n",
       "\n",
       "     Holdeplass_Fra                        Holdeplass_Til Linjetype  \\\n",
       "0       Nordliveien                             Tjernsmyr     Lokal   \n",
       "1  Nadderud stadion  Bekkestua bussterminal (Plattform C)     Lokal   \n",
       "\n",
       "  Linjefylke Linjenavn  ...  Tidspunkt_Faktisk_Avgang_Holdeplass_Fra  \\\n",
       "0      Viken       150  ...                          0 days 10:53:59   \n",
       "1      Viken       150  ...                          0 days 13:12:26   \n",
       "\n",
       "  Tidspunkt_Planlagt_Ankomst_Holdeplass_Fra  \\\n",
       "0                           0 days 10:53:00   \n",
       "1                           0 days 13:12:00   \n",
       "\n",
       "  Tidspunkt_Planlagt_Avgang_Holdeplass_Fra Kjøretøy_Kapasitet  \\\n",
       "0                          0 days 10:53:00                112   \n",
       "1                          0 days 13:12:00                112   \n",
       "\n",
       "  Passasjerer_Ombord  Ankomst_tidsforsinkelse  Avgang_tidsforsinkelse  \\\n",
       "0                  5          0 days 00:00:53         0 days 00:00:59   \n",
       "1                  5          0 days 00:00:20         0 days 00:00:26   \n",
       "\n",
       "  er_forsinket_ankomst Ledige_Plasser Travelt_Nivå  \n",
       "0                 True            107    God plass  \n",
       "1                 True            107    God plass  \n",
       "\n",
       "[2 rows x 22 columns]"
      ]
     },
     "execution_count": 10,
     "metadata": {},
     "output_type": "execute_result"
    }
   ],
   "source": [
    "df[\"Travelt_Nivå\"] = pd.qcut(df.Ledige_Plasser, q=3, labels=[\"Lite plass\",\"Medium\",\"God plass\"])\n",
    "df.head(2)"
   ]
  },
  {
   "cell_type": "markdown",
   "id": "20f2c9f0",
   "metadata": {},
   "source": [
    "### Task 1.3 \n",
    "\n",
    "#### Plot 1: Sum av passasjerer per linjenavn"
   ]
  },
  {
   "cell_type": "code",
   "execution_count": 11,
   "id": "c8820b04",
   "metadata": {},
   "outputs": [
    {
     "data": {
      "image/png": "[encoded data removed]",
      "text/plain": [
       "<Figure size 1080x360 with 1 Axes>"
      ]
     },
     "metadata": {
      "needs_background": "light"
     },
     "output_type": "display_data"
    }
   ],
   "source": [
    "antall_passasjerer_per_linjenavn = df.groupby('Linjenavn', as_index=False).agg({'Passasjerer_Ombord':'sum'})\n",
    "x, y = antall_passasjerer_per_linjenavn['Linjenavn'], antall_passasjerer_per_linjenavn['Passasjerer_Ombord']\n",
    "plt.figure(figsize=(15,5))\n",
    "plt.bar(x,y,alpha=1, width=0.8)\n",
    "plt.title(\"Antall passasjerer per Linjenavn\")\n",
    "plt.xlabel(\"Linjenavn\")\n",
    "plt.ylabel(\"Passasjerer_Ombord\")\n",
    "plt.xticks(x, y, rotation=90)\n",
    "plt.tick_params(axis='x', which='major', labelsize=5)"
   ]
  },
  {
   "cell_type": "markdown",
   "id": "121a9e37",
   "metadata": {},
   "source": [
    "#### Plot 2: Antall passasjerer per kommune"
   ]
  },
  {
   "cell_type": "code",
   "execution_count": 12,
   "id": "ca23e487",
   "metadata": {},
   "outputs": [
    {
     "data": {
      "text/plain": [
       "<AxesSubplot:title={'center':'Antall passasjerer per Kommune'}, xlabel='Kommune', ylabel='Passasjerer Ombord'>"
      ]
     },
     "execution_count": 12,
     "metadata": {},
     "output_type": "execute_result"
    },
    {
     "data": {
      "image/png": "[encoded data removed]",
      "text/plain": [
       "<Figure size 432x288 with 1 Axes>"
      ]
     },
     "metadata": {
      "needs_background": "light"
     },
     "output_type": "display_data"
    }
   ],
   "source": [
    "antall_passasjerer_per_kommune = df.groupby('Kommune', as_index=False).agg({'Passasjerer_Ombord':'sum'})\n",
    "antall_passasjerer_per_kommune.plot.bar(x='Kommune',ylabel='Passasjerer Ombord', title=\"Antall passasjerer per Kommune\")"
   ]
  },
  {
   "cell_type": "markdown",
   "id": "6f6a3b12",
   "metadata": {},
   "source": [
    "#### Introduserer ny feature: Tidsperiode"
   ]
  },
  {
   "cell_type": "code",
   "execution_count": 13,
   "id": "85f5cb5b",
   "metadata": {},
   "outputs": [
    {
     "data": {
      "text/html": [
       "<div>\n",
       "<style scoped>\n",
       "    .dataframe tbody tr th:only-of-type {\n",
       "        vertical-align: middle;\n",
       "    }\n",
       "\n",
       "    .dataframe tbody tr th {\n",
       "        vertical-align: top;\n",
       "    }\n",
       "\n",
       "    .dataframe thead th {\n",
       "        text-align: right;\n",
       "    }\n",
       "</style>\n",
       "<table border=\"1\" class=\"dataframe\">\n",
       "  <thead>\n",
       "    <tr style=\"text-align: right;\">\n",
       "      <th></th>\n",
       "      <th>TurId</th>\n",
       "      <th>Dato</th>\n",
       "      <th>Fylke</th>\n",
       "      <th>Område</th>\n",
       "      <th>Kommune</th>\n",
       "      <th>Holdeplass_Fra</th>\n",
       "      <th>Holdeplass_Til</th>\n",
       "      <th>Linjetype</th>\n",
       "      <th>Linjefylke</th>\n",
       "      <th>Linjenavn</th>\n",
       "      <th>...</th>\n",
       "      <th>Tidspunkt_Planlagt_Ankomst_Holdeplass_Fra</th>\n",
       "      <th>Tidspunkt_Planlagt_Avgang_Holdeplass_Fra</th>\n",
       "      <th>Kjøretøy_Kapasitet</th>\n",
       "      <th>Passasjerer_Ombord</th>\n",
       "      <th>Ankomst_tidsforsinkelse</th>\n",
       "      <th>Avgang_tidsforsinkelse</th>\n",
       "      <th>er_forsinket_ankomst</th>\n",
       "      <th>Ledige_Plasser</th>\n",
       "      <th>Travelt_Nivå</th>\n",
       "      <th>Tidsperiode</th>\n",
       "    </tr>\n",
       "  </thead>\n",
       "  <tbody>\n",
       "    <tr>\n",
       "      <th>0</th>\n",
       "      <td>15006-2020-08-10T10:24:00+02:00</td>\n",
       "      <td>2020-10-08</td>\n",
       "      <td>Viken</td>\n",
       "      <td>Vest</td>\n",
       "      <td>Bærum</td>\n",
       "      <td>Nordliveien</td>\n",
       "      <td>Tjernsmyr</td>\n",
       "      <td>Lokal</td>\n",
       "      <td>Viken</td>\n",
       "      <td>150</td>\n",
       "      <td>...</td>\n",
       "      <td>0 days 10:53:00</td>\n",
       "      <td>0 days 10:53:00</td>\n",
       "      <td>112</td>\n",
       "      <td>5</td>\n",
       "      <td>0 days 00:00:53</td>\n",
       "      <td>0 days 00:00:59</td>\n",
       "      <td>True</td>\n",
       "      <td>107</td>\n",
       "      <td>God plass</td>\n",
       "      <td>Morgen</td>\n",
       "    </tr>\n",
       "    <tr>\n",
       "      <th>1</th>\n",
       "      <td>15002-2020-08-15T12:54:00+02:00</td>\n",
       "      <td>2020-08-15</td>\n",
       "      <td>Viken</td>\n",
       "      <td>Vest</td>\n",
       "      <td>Bærum</td>\n",
       "      <td>Nadderud stadion</td>\n",
       "      <td>Bekkestua bussterminal (Plattform C)</td>\n",
       "      <td>Lokal</td>\n",
       "      <td>Viken</td>\n",
       "      <td>150</td>\n",
       "      <td>...</td>\n",
       "      <td>0 days 13:12:00</td>\n",
       "      <td>0 days 13:12:00</td>\n",
       "      <td>112</td>\n",
       "      <td>5</td>\n",
       "      <td>0 days 00:00:20</td>\n",
       "      <td>0 days 00:00:26</td>\n",
       "      <td>True</td>\n",
       "      <td>107</td>\n",
       "      <td>God plass</td>\n",
       "      <td>Ettermiddag</td>\n",
       "    </tr>\n",
       "  </tbody>\n",
       "</table>\n",
       "<p>2 rows × 23 columns</p>\n",
       "</div>"
      ],
      "text/plain": [
       "                             TurId       Dato  Fylke Område Kommune  \\\n",
       "0  15006-2020-08-10T10:24:00+02:00 2020-10-08  Viken   Vest   Bærum   \n",
       "1  15002-2020-08-15T12:54:00+02:00 2020-08-15  Viken   Vest   Bærum   \n",
       "\n",
       "     Holdeplass_Fra                        Holdeplass_Til Linjetype  \\\n",
       "0       Nordliveien                             Tjernsmyr     Lokal   \n",
       "1  Nadderud stadion  Bekkestua bussterminal (Plattform C)     Lokal   \n",
       "\n",
       "  Linjefylke Linjenavn  ...  Tidspunkt_Planlagt_Ankomst_Holdeplass_Fra  \\\n",
       "0      Viken       150  ...                            0 days 10:53:00   \n",
       "1      Viken       150  ...                            0 days 13:12:00   \n",
       "\n",
       "  Tidspunkt_Planlagt_Avgang_Holdeplass_Fra Kjøretøy_Kapasitet  \\\n",
       "0                          0 days 10:53:00                112   \n",
       "1                          0 days 13:12:00                112   \n",
       "\n",
       "  Passasjerer_Ombord Ankomst_tidsforsinkelse  Avgang_tidsforsinkelse  \\\n",
       "0                  5         0 days 00:00:53         0 days 00:00:59   \n",
       "1                  5         0 days 00:00:20         0 days 00:00:26   \n",
       "\n",
       "   er_forsinket_ankomst Ledige_Plasser Travelt_Nivå  Tidsperiode  \n",
       "0                  True            107    God plass       Morgen  \n",
       "1                  True            107    God plass  Ettermiddag  \n",
       "\n",
       "[2 rows x 23 columns]"
      ]
     },
     "execution_count": 13,
     "metadata": {},
     "output_type": "execute_result"
    }
   ],
   "source": [
    "tid = df[\"Tidspunkt_Faktisk_Avgang_Holdeplass_Fra\"]\n",
    "conditions = [\n",
    "    (tid >= pd.Timedelta(hours=5)) & (tid < pd.Timedelta(hours=13)),\n",
    "    (tid >= pd.Timedelta(hours=13)) & (tid < pd.Timedelta(hours=18)),\n",
    "    (tid >= pd.Timedelta(hours=18)) & (tid < pd.Timedelta(hours=22)),\n",
    "    (tid >= pd.Timedelta(hours=22)) | (tid < pd.Timedelta(hours=5))\n",
    "]\n",
    "values = [\"Morgen\", \"Ettermiddag\", \"Kveld\",\"Natt\"]\n",
    "df['Tidsperiode'] = np.select(conditions, values)\n",
    "df.head(2)"
   ]
  },
  {
   "cell_type": "markdown",
   "id": "d085bde2",
   "metadata": {},
   "source": [
    "#### Plot 3: Antall passasjerer per tidsperiode"
   ]
  },
  {
   "cell_type": "code",
   "execution_count": 14,
   "id": "c360cb69",
   "metadata": {},
   "outputs": [
    {
     "data": {
      "text/plain": [
       "<AxesSubplot:title={'center':'Antall passasjerer per Tidsperiode'}, xlabel='Tidsperiode', ylabel='Passasjerer Ombord'>"
      ]
     },
     "execution_count": 14,
     "metadata": {},
     "output_type": "execute_result"
    },
    {
     "data": {
      "image/png": "[encoded data removed]",
      "text/plain": [
       "<Figure size 432x288 with 1 Axes>"
      ]
     },
     "metadata": {
      "needs_background": "light"
     },
     "output_type": "display_data"
    }
   ],
   "source": [
    "antall_passasjerer_per_tidsperiode = df.groupby('Tidsperiode', as_index=False).agg({'Passasjerer_Ombord':'sum'})\n",
    "antall_passasjerer_per_tidsperiode.plot.bar(rot=45, x='Tidsperiode',ylabel='Passasjerer Ombord', title=\"Antall passasjerer per Tidsperiode\")"
   ]
  },
  {
   "cell_type": "markdown",
   "id": "eb29b273",
   "metadata": {},
   "source": [
    "#### Plot 4: Antall forsinket busser per tidsperide\n",
    "Viser hvor mange busser er forsinket i hvilken tidsperiode  "
   ]
  },
  {
   "cell_type": "code",
   "execution_count": 15,
   "id": "c37bbd9f",
   "metadata": {},
   "outputs": [
    {
     "data": {
      "text/plain": [
       "<AxesSubplot:title={'center':'Antall forsinket (ankomst) busser per Tidsperiode'}, xlabel='Tidsperiode', ylabel='Antall forsinket busser'>"
      ]
     },
     "execution_count": 15,
     "metadata": {},
     "output_type": "execute_result"
    },
    {
     "data": {
      "image/png": "[encoded data removed]",
      "text/plain": [
       "<Figure size 432x288 with 1 Axes>"
      ]
     },
     "metadata": {
      "needs_background": "light"
     },
     "output_type": "display_data"
    }
   ],
   "source": [
    "forsinket_ankomst_per_tidsperiode = df.groupby('Tidsperiode', as_index=False).agg({'er_forsinket_ankomst':'sum'})\n",
    "forsinket_ankomst_per_tidsperiode.plot.bar(rot=45, x='Tidsperiode', ylabel='Antall forsinket busser', title='Antall forsinket (ankomst) busser per Tidsperiode') "
   ]
  },
  {
   "cell_type": "markdown",
   "id": "e1a40226",
   "metadata": {},
   "source": [
    "**Viser hvor mange busser er forsinket i hvilken tidsperiode og den totale antall busser per tidsperiode på samme plot**"
   ]
  },
  {
   "cell_type": "code",
   "execution_count": 16,
   "id": "edb7ac70",
   "metadata": {},
   "outputs": [
    {
     "data": {
      "text/plain": [
       "<AxesSubplot:xlabel='tidsperiode', ylabel='antall busser'>"
      ]
     },
     "execution_count": 16,
     "metadata": {},
     "output_type": "execute_result"
    },
    {
     "data": {
      "image/png": "[encoded data removed]",
      "text/plain": [
       "<Figure size 432x288 with 1 Axes>"
      ]
     },
     "metadata": {
      "needs_background": "light"
     },
     "output_type": "display_data"
    }
   ],
   "source": [
    "antall_busser_per_periode = df['Linjenavn'].groupby(df['Tidsperiode']).count()\n",
    "forsinket_ankomst_per_tidsperiode = df.groupby('Tidsperiode', as_index=False).agg({'er_forsinket_ankomst':'sum'})\n",
    "\n",
    "data = {\n",
    "    'tidsperiode': forsinket_ankomst_per_tidsperiode['Tidsperiode'].array,\n",
    "    'antall_busser': antall_busser_per_periode.array, \n",
    "    'antall_forsinket_busser': forsinket_ankomst_per_tidsperiode['er_forsinket_ankomst'].array,\n",
    "    }\n",
    "df_plot_4 = pd.DataFrame(data=data)\n",
    "df_plot_4.plot.bar(x='tidsperiode', ylabel=\"antall busser\", rot=45)"
   ]
  },
  {
   "cell_type": "markdown",
   "id": "59a1de35",
   "metadata": {},
   "source": [
    "#### Plot 5: \n",
    "**Viser:\n",
    "\n",
    "**hvor mange busser er forsinket i hvilken tidsperiode,\n",
    "den totale antall busser per tidsperiode\n",
    "antall busser med lite plass per tidsperiode\n",
    "...på samme plot."
   ]
  },
  {
   "cell_type": "code",
   "execution_count": 17,
   "id": "6470543f",
   "metadata": {},
   "outputs": [
    {
     "data": {
      "text/plain": [
       "<AxesSubplot:xlabel='tidsperiode', ylabel='antall busser'>"
      ]
     },
     "execution_count": 17,
     "metadata": {},
     "output_type": "execute_result"
    },
    {
     "data": {
      "image/png": "[encoded data removed]",
      "text/plain": [
       "<Figure size 432x288 with 1 Axes>"
      ]
     },
     "metadata": {
      "needs_background": "light"
     },
     "output_type": "display_data"
    },
    {
     "data": {
      "image/png": "[encoded data removed]",
      "text/plain": [
       "<Figure size 432x288 with 1 Axes>"
      ]
     },
     "metadata": {
      "needs_background": "light"
     },
     "output_type": "display_data"
    }
   ],
   "source": [
    "tmp = df[df['Travelt_Nivå'].isin(['Lite plass'])]\n",
    "tmp = tmp.groupby('Tidsperiode').count()\n",
    "df_plot_4['antall_travelt_busser'] = tmp['Travelt_Nivå'].array # busser med lite plass\n",
    "df_plot_4.plot.bar(x='tidsperiode', ylabel=\"antall busser\", rot=45)\n",
    "df_plot_4.plot.line(x='tidsperiode', ylabel=\"antall busser\", rot=45)"
   ]
  },
  {
   "cell_type": "markdown",
   "id": "a0e78071",
   "metadata": {},
   "source": [
    "#### Plot 6: forsinkelse per kommune"
   ]
  },
  {
   "cell_type": "code",
   "execution_count": 18,
   "id": "956ec99c",
   "metadata": {},
   "outputs": [
    {
     "data": {
      "text/plain": [
       "<AxesSubplot:title={'center':'Antall forsinket (ankomst) busser per Kommune'}, xlabel='Kommune', ylabel='Antall forsinket busser'>"
      ]
     },
     "execution_count": 18,
     "metadata": {},
     "output_type": "execute_result"
    },
    {
     "data": {
      "image/png": "[encoded data removed]",
      "text/plain": [
       "<Figure size 432x288 with 1 Axes>"
      ]
     },
     "metadata": {
      "needs_background": "light"
     },
     "output_type": "display_data"
    }
   ],
   "source": [
    "forsinket_ankomst_per_kommune = df.groupby('Kommune', as_index=False).agg({'er_forsinket_ankomst':'sum'})\n",
    "forsinket_ankomst_per_kommune.plot.bar(rot=90, x='Kommune', ylabel='Antall forsinket busser', title='Antall forsinket (ankomst) busser per Kommune') "
   ]
  },
  {
   "cell_type": "markdown",
   "id": "3d6c268c",
   "metadata": {},
   "source": [
    "#### Ekstra stoff: \n",
    "##### lager et nytt DataFrame som skal ha følgende feature:\n",
    "- Måned\n",
    "- Antall_busser\n",
    "- Antall_forsinket_busser\n",
    "- Antall_passasjerer"
   ]
  },
  {
   "cell_type": "code",
   "execution_count": 19,
   "id": "18e83b61",
   "metadata": {},
   "outputs": [
    {
     "data": {
      "text/html": [
       "<div>\n",
       "<style scoped>\n",
       "    .dataframe tbody tr th:only-of-type {\n",
       "        vertical-align: middle;\n",
       "    }\n",
       "\n",
       "    .dataframe tbody tr th {\n",
       "        vertical-align: top;\n",
       "    }\n",
       "\n",
       "    .dataframe thead th {\n",
       "        text-align: right;\n",
       "    }\n",
       "</style>\n",
       "<table border=\"1\" class=\"dataframe\">\n",
       "  <thead>\n",
       "    <tr style=\"text-align: right;\">\n",
       "      <th></th>\n",
       "      <th>måned</th>\n",
       "      <th>antall_busser</th>\n",
       "      <th>antall_forsinket_busser</th>\n",
       "      <th>antall_passasjerer</th>\n",
       "    </tr>\n",
       "    <tr>\n",
       "      <th>Dato</th>\n",
       "      <th></th>\n",
       "      <th></th>\n",
       "      <th></th>\n",
       "      <th></th>\n",
       "    </tr>\n",
       "  </thead>\n",
       "  <tbody>\n",
       "    <tr>\n",
       "      <th>1</th>\n",
       "      <td>[January]</td>\n",
       "      <td>152</td>\n",
       "      <td>122</td>\n",
       "      <td>810</td>\n",
       "    </tr>\n",
       "    <tr>\n",
       "      <th>2</th>\n",
       "      <td>[February]</td>\n",
       "      <td>175</td>\n",
       "      <td>154</td>\n",
       "      <td>871</td>\n",
       "    </tr>\n",
       "    <tr>\n",
       "      <th>3</th>\n",
       "      <td>[March]</td>\n",
       "      <td>228</td>\n",
       "      <td>204</td>\n",
       "      <td>1144</td>\n",
       "    </tr>\n",
       "    <tr>\n",
       "      <th>4</th>\n",
       "      <td>[April]</td>\n",
       "      <td>169</td>\n",
       "      <td>149</td>\n",
       "      <td>856</td>\n",
       "    </tr>\n",
       "    <tr>\n",
       "      <th>5</th>\n",
       "      <td>[May]</td>\n",
       "      <td>184</td>\n",
       "      <td>162</td>\n",
       "      <td>934</td>\n",
       "    </tr>\n",
       "    <tr>\n",
       "      <th>6</th>\n",
       "      <td>[June]</td>\n",
       "      <td>1044</td>\n",
       "      <td>894</td>\n",
       "      <td>5913</td>\n",
       "    </tr>\n",
       "    <tr>\n",
       "      <th>7</th>\n",
       "      <td>[July]</td>\n",
       "      <td>1503</td>\n",
       "      <td>1254</td>\n",
       "      <td>7317</td>\n",
       "    </tr>\n",
       "    <tr>\n",
       "      <th>8</th>\n",
       "      <td>[August]</td>\n",
       "      <td>1615</td>\n",
       "      <td>1418</td>\n",
       "      <td>9187</td>\n",
       "    </tr>\n",
       "    <tr>\n",
       "      <th>9</th>\n",
       "      <td>[September]</td>\n",
       "      <td>168</td>\n",
       "      <td>150</td>\n",
       "      <td>951</td>\n",
       "    </tr>\n",
       "    <tr>\n",
       "      <th>10</th>\n",
       "      <td>[October]</td>\n",
       "      <td>188</td>\n",
       "      <td>160</td>\n",
       "      <td>992</td>\n",
       "    </tr>\n",
       "    <tr>\n",
       "      <th>11</th>\n",
       "      <td>[November]</td>\n",
       "      <td>175</td>\n",
       "      <td>155</td>\n",
       "      <td>1137</td>\n",
       "    </tr>\n",
       "    <tr>\n",
       "      <th>12</th>\n",
       "      <td>[December]</td>\n",
       "      <td>173</td>\n",
       "      <td>153</td>\n",
       "      <td>942</td>\n",
       "    </tr>\n",
       "  </tbody>\n",
       "</table>\n",
       "</div>"
      ],
      "text/plain": [
       "            måned  antall_busser  antall_forsinket_busser  antall_passasjerer\n",
       "Dato                                                                         \n",
       "1       [January]            152                      122                 810\n",
       "2      [February]            175                      154                 871\n",
       "3         [March]            228                      204                1144\n",
       "4         [April]            169                      149                 856\n",
       "5           [May]            184                      162                 934\n",
       "6          [June]           1044                      894                5913\n",
       "7          [July]           1503                     1254                7317\n",
       "8        [August]           1615                     1418                9187\n",
       "9     [September]            168                      150                 951\n",
       "10      [October]            188                      160                 992\n",
       "11     [November]            175                      155                1137\n",
       "12     [December]            173                      153                 942"
      ]
     },
     "execution_count": 19,
     "metadata": {},
     "output_type": "execute_result"
    }
   ],
   "source": [
    "# Verdier\n",
    "måned = df['Dato'].dt.month\n",
    "antall_busser = df['Linjenavn'].groupby(måned).count()\n",
    "antall_forsinket_busser = df.groupby(måned, as_index=False).agg({'er_forsinket_ankomst':'sum'})\n",
    "antall_passasjerer = df.groupby(måned, as_index=False).agg({'Passasjerer_Ombord':'sum'})\n",
    "\n",
    "data = {\n",
    "    'måned': df['Dato'].dt.month_name().groupby(måned).unique(),\n",
    "    'antall_busser':df['Linjenavn'].groupby(måned).count(),\n",
    "    'antall_forsinket_busser':antall_forsinket_busser['er_forsinket_ankomst'].array,\n",
    "    'antall_passasjerer':antall_passasjerer['Passasjerer_Ombord'].array\n",
    "}\n",
    "\n",
    "df_plot_7 = pd.DataFrame(data=data)\n",
    "df_plot_7"
   ]
  },
  {
   "cell_type": "markdown",
   "id": "b1350e7a",
   "metadata": {},
   "source": [
    "#### Plot 7.0: Antall passasjerer per måned"
   ]
  },
  {
   "cell_type": "code",
   "execution_count": 20,
   "id": "dfb76f45",
   "metadata": {},
   "outputs": [
    {
     "data": {
      "text/plain": [
       "<AxesSubplot:ylabel='måned'>"
      ]
     },
     "execution_count": 20,
     "metadata": {},
     "output_type": "execute_result"
    },
    {
     "data": {
      "image/png": "[encoded data removed]",
      "text/plain": [
       "<Figure size 432x288 with 1 Axes>"
      ]
     },
     "metadata": {
      "needs_background": "light"
     },
     "output_type": "display_data"
    }
   ],
   "source": [
    "df_plot_7.plot.barh(x='måned', y='antall_passasjerer')"
   ]
  },
  {
   "cell_type": "markdown",
   "id": "5a98b5f1",
   "metadata": {},
   "source": [
    "#### Plot 7.1: Antall forsinket busser per måned"
   ]
  },
  {
   "cell_type": "code",
   "execution_count": 21,
   "id": "6f1a833d",
   "metadata": {
    "scrolled": true
   },
   "outputs": [
    {
     "data": {
      "text/plain": [
       "<AxesSubplot:ylabel='måned'>"
      ]
     },
     "execution_count": 21,
     "metadata": {},
     "output_type": "execute_result"
    },
    {
     "data": {
      "image/png": "[encoded data removed]",
      "text/plain": [
       "<Figure size 432x288 with 1 Axes>"
      ]
     },
     "metadata": {
      "needs_background": "light"
     },
     "output_type": "display_data"
    }
   ],
   "source": [
    "df_plot_7.plot.barh(x='måned', y='antall_forsinket_busser')"
   ]
  }
 ],
 "metadata": {
  "kernelspec": {
   "display_name": "Python 3 (ipykernel)",
   "language": "python",
   "name": "python3"
  },
  "language_info": {
   "codemirror_mode": {
    "name": "ipython",
    "version": 3
   },
   "file_extension": ".py",
   "mimetype": "text/x-python",
   "name": "python",
   "nbconvert_exporter": "python",
   "pygments_lexer": "ipython3",
   "version": "3.8.11"
  }
 },
 "nbformat": 4,
 "nbformat_minor": 5
}
